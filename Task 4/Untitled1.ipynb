{
 "cells": [
  {
   "cell_type": "code",
   "execution_count": 1,
   "id": "5ed6f34e-5757-40ad-b3c1-32e2e6616458",
   "metadata": {},
   "outputs": [
    {
     "name": "stdin",
     "output_type": "stream",
     "text": [
      "Enter the number of students:  3\n",
      "Enter the number of subjects:  Math\n"
     ]
    },
    {
     "ename": "ValueError",
     "evalue": "invalid literal for int() with base 10: 'Math'",
     "output_type": "error",
     "traceback": [
      "\u001b[0;31m---------------------------------------------------------------------------\u001b[0m",
      "\u001b[0;31mValueError\u001b[0m                                Traceback (most recent call last)",
      "Cell \u001b[0;32mIn[1], line 59\u001b[0m\n\u001b[1;32m     55\u001b[0m     analyze_students(students)\n\u001b[1;32m     58\u001b[0m \u001b[38;5;28;01mif\u001b[39;00m \u001b[38;5;18m__name__\u001b[39m \u001b[38;5;241m==\u001b[39m \u001b[38;5;124m\"\u001b[39m\u001b[38;5;124m__main__\u001b[39m\u001b[38;5;124m\"\u001b[39m:\n\u001b[0;32m---> 59\u001b[0m     \u001b[43mmain\u001b[49m\u001b[43m(\u001b[49m\u001b[43m)\u001b[49m\n",
      "Cell \u001b[0;32mIn[1], line 54\u001b[0m, in \u001b[0;36mmain\u001b[0;34m()\u001b[0m\n\u001b[1;32m     53\u001b[0m \u001b[38;5;28;01mdef\u001b[39;00m \u001b[38;5;21mmain\u001b[39m():\n\u001b[0;32m---> 54\u001b[0m     students \u001b[38;5;241m=\u001b[39m \u001b[43mcreate_students\u001b[49m\u001b[43m(\u001b[49m\u001b[43m)\u001b[49m\n\u001b[1;32m     55\u001b[0m     analyze_students(students)\n",
      "Cell \u001b[0;32mIn[1], line 16\u001b[0m, in \u001b[0;36mcreate_students\u001b[0;34m()\u001b[0m\n\u001b[1;32m     14\u001b[0m students \u001b[38;5;241m=\u001b[39m []\n\u001b[1;32m     15\u001b[0m n \u001b[38;5;241m=\u001b[39m \u001b[38;5;28mint\u001b[39m(\u001b[38;5;28minput\u001b[39m(\u001b[38;5;124m\"\u001b[39m\u001b[38;5;124mEnter the number of students: \u001b[39m\u001b[38;5;124m\"\u001b[39m))\n\u001b[0;32m---> 16\u001b[0m m \u001b[38;5;241m=\u001b[39m \u001b[38;5;28;43mint\u001b[39;49m\u001b[43m(\u001b[49m\u001b[38;5;28;43minput\u001b[39;49m\u001b[43m(\u001b[49m\u001b[38;5;124;43m\"\u001b[39;49m\u001b[38;5;124;43mEnter the number of subjects: \u001b[39;49m\u001b[38;5;124;43m\"\u001b[39;49m\u001b[43m)\u001b[49m\u001b[43m)\u001b[49m\n\u001b[1;32m     18\u001b[0m \u001b[38;5;28;01mfor\u001b[39;00m i \u001b[38;5;129;01min\u001b[39;00m \u001b[38;5;28mrange\u001b[39m(n):\n\u001b[1;32m     19\u001b[0m     name \u001b[38;5;241m=\u001b[39m \u001b[38;5;28minput\u001b[39m(\u001b[38;5;124m\"\u001b[39m\u001b[38;5;124mEnter name of student\u001b[39m\u001b[38;5;124m\"\u001b[39m)\n",
      "\u001b[0;31mValueError\u001b[0m: invalid literal for int() with base 10: 'Math'"
     ]
    }
   ],
   "source": [
    "class Student:\n",
    "    def __init__(self, name, marks):\n",
    "        self.name = name\n",
    "        self.marks = tuple(marks)\n",
    "\n",
    "    def total(self):\n",
    "        return sum(self.marks)\n",
    "\n",
    "    def average(self):\n",
    "        return sum(self.marks) / len(self.marks)\n",
    "\n",
    "\n",
    "def create_students():\n",
    "    students = []\n",
    "    n = int(input(\"Enter the number of students: \"))\n",
    "    m = int(input(\"Enter the number of subjects: \"))\n",
    "\n",
    "    for i in range(n):\n",
    "        name = input(\"Enter name of student\")\n",
    "        marks = list(map(float, input(f\"Enter {m} marks (space-separated): \").split()))\n",
    "        if len(marks) != m:\n",
    "            print(\"Incorrect number of marks entered. Try again.\")\n",
    "            return create_students()\n",
    "        students.append(Student(name, marks))\n",
    "\n",
    "    return students\n",
    "\n",
    "\n",
    "def analyze_students(students):\n",
    "    if not students:\n",
    "        print(\"No students to analyze.\")\n",
    "        return\n",
    "\n",
    "    \n",
    "    total_marks_all = sum(s.total() for s in students)\n",
    "    total_subjects_all = len(students) * len(students[0].marks)\n",
    "    class_average = total_marks_all / total_subjects_all\n",
    "\n",
    "    # Find highest and lowest\n",
    "    \n",
    "\n",
    "   \n",
    "\n",
    "    print(\"\\n--- Analysis Report ---\")\n",
    "    print(f\"Class average marks: {class_average:.2f}\")\n",
    "  \n",
    "\n",
    "    print(\"\\nStudents sorted by total marks (highest to lowest):\")\n",
    "    for s in sorted_students:\n",
    "        print(f\"{s.name}: Total = {s.total()}, Average = {s.average():.2f}\")\n",
    "\n",
    "\n",
    "def main():\n",
    "    students = create_students()\n",
    "    analyze_students(students)\n",
    "\n",
    "\n",
    "if __name__ == \"__main__\":\n",
    "    main()"
   ]
  },
  {
   "cell_type": "code",
   "execution_count": null,
   "id": "f9f7d435-c106-4a27-b759-da98ce64889d",
   "metadata": {},
   "outputs": [],
   "source": []
  }
 ],
 "metadata": {
  "kernelspec": {
   "display_name": "Python 3 (ipykernel)",
   "language": "python",
   "name": "python3"
  },
  "language_info": {
   "codemirror_mode": {
    "name": "ipython",
    "version": 3
   },
   "file_extension": ".py",
   "mimetype": "text/x-python",
   "name": "python",
   "nbconvert_exporter": "python",
   "pygments_lexer": "ipython3",
   "version": "3.11.0"
  }
 },
 "nbformat": 4,
 "nbformat_minor": 5
}
